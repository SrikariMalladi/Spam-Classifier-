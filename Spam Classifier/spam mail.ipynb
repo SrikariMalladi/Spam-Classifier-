{
 "cells": [
  {
   "cell_type": "code",
   "execution_count": null,
   "id": "8b3c918b",
   "metadata": {},
   "outputs": [],
   "source": []
  },
  {
   "cell_type": "code",
   "execution_count": null,
   "id": "d6623a1f",
   "metadata": {},
   "outputs": [],
   "source": [
    "import pandas as pd\n",
    "from sklearn.model_selection import train_test_split\n",
    "from sklearn.feature_extraction.text import TfidfVectorizer\n",
    "from sklearn.svm import LinearSVC\n",
    "from sklearn.naive_bayes import MultinomialNB\n",
    "from sklearn.metrics import accuracy_score, confusion_matrix, f1_score\n",
    "\n",
    "# Read the data\n",
    "df = pd.read_csv(\"spamham.csv\")\n",
    "\n",
    "# Replace null values with an empty string\n",
    "df.fillna('', inplace=True)\n",
    "\n",
    "# Categorize Spam as 0 and Not spam as 1\n",
    "df['Category'] = df['Category'].map({'ham': 1, 'spam': 0})\n",
    "\n",
    "# Split the data into training and test sets\n",
    "x_train, x_test, y_train, y_test = train_test_split(df['Message'], df['Category'], train_size=0.8, test_size=0.2, random_state=4)\n",
    "\n",
    "# Feature extraction using TF-IDF Vectorizer\n",
    "tfidf = TfidfVectorizer(min_df=1, stop_words='english', lowercase=True)\n",
    "x_train_feat = tfidf.fit_transform(x_train)\n",
    "x_test_feat = tfidf.transform(x_test)\n",
    "\n",
    "# SVM model\n",
    "svm_model = LinearSVC()\n",
    "svm_model.fit(x_train_feat, y_train)\n",
    "svm_pred = svm_model.predict(x_test_feat)\n",
    "\n",
    "# Multinomial Naive Bayes model\n",
    "nb_model = MultinomialNB()\n",
    "nb_model.fit(x_train_feat, y_train)\n",
    "nb_pred = nb_model.predict(x_test_feat)\n",
    "\n",
    "# Evaluate SVM model\n",
    "print(\"~~~~~~~~~~SVM RESULTS~~~~~~~~~~\")\n",
    "print(\"Accuracy Score using SVM: {:.4f}\".format(accuracy_score(y_test, svm_pred) * 100))\n",
    "print(\"F Score using SVM: {:.4f}\".format(f1_score(y_test, svm_pred, average='macro') * 100))\n",
    "cm_svm = confusion_matrix(y_test, svm_pred)\n",
    "print(\"Confusion matrix using SVM:\")\n",
    "print(cm_svm)\n",
    "\n",
    "# Evaluate Multinomial Naive Bayes model\n",
    "print(\"~~~~~~~~~~MNB RESULTS~~~~~~~~~~\")\n",
    "print(\"Accuracy Score using MNB: {:.4f}\".format(accuracy_score(y_test, nb_pred) * 100))\n",
    "print(\"F Score using MNB: {:.4f}\".format(f1_score(y_test, nb_pred, average='macro') * 100))\n",
    "cm_nb = confusion_matrix(y_test, nb_pred)\n",
    "print(\"Confusion matrix using MNB:\")\n",
    "print(cm_nb)\n"
   ]
  },
  {
   "cell_type": "code",
   "execution_count": null,
   "id": "8d4075dc",
   "metadata": {},
   "outputs": [],
   "source": []
  }
 ],
 "metadata": {
  "kernelspec": {
   "display_name": "Python 3 (ipykernel)",
   "language": "python",
   "name": "python3"
  },
  "language_info": {
   "codemirror_mode": {
    "name": "ipython",
    "version": 3
   },
   "file_extension": ".py",
   "mimetype": "text/x-python",
   "name": "python",
   "nbconvert_exporter": "python",
   "pygments_lexer": "ipython3",
   "version": "3.10.9"
  }
 },
 "nbformat": 4,
 "nbformat_minor": 5
}
